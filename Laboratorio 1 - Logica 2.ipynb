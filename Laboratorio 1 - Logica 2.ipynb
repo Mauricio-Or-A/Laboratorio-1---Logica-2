{
  "nbformat": 4,
  "nbformat_minor": 0,
  "metadata": {
    "colab": {
      "private_outputs": true,
      "provenance": [],
      "toc_visible": true
    },
    "kernelspec": {
      "name": "python3",
      "display_name": "Python 3"
    },
    "language_info": {
      "name": "python"
    }
  },
  "cells": [
    {
      "cell_type": "markdown",
      "source": [
        "# Tarea 1: Manejo Dinámico de Memoría"
      ],
      "metadata": {
        "id": "RA2MsnIIPkVH"
      }
    },
    {
      "cell_type": "markdown",
      "source": [
        "*   *Nombres y Apellidos:*\n",
        "*   *CC o TI:*\n",
        "\n",
        "*   *Nombres y Apellidos:*\n",
        "*   *CC o TI:*\n",
        "\n",
        "*   *Nombres y Apellidos:*\n",
        "*   *CC o TI:*\n",
        "\n",
        "*   *Nombres y Apellidos:*\n",
        "*   *CC o TI:*"
      ],
      "metadata": {
        "id": "Q-4lJXtOQkfW"
      }
    },
    {
      "cell_type": "markdown",
      "source": [
        "**Fecha límite de entrega**: 2 de septiembre de 2024, antes de las 11:59 pm"
      ],
      "metadata": {
        "id": "pwnlInu2njuE"
      }
    },
    {
      "cell_type": "markdown",
      "source": [
        "## Objetivo de Aprendizaje para la Tarea 1"
      ],
      "metadata": {
        "id": "nZw4PZEIROUn"
      }
    },
    {
      "cell_type": "markdown",
      "source": [
        "Analizar la descripción del problema de manejo dinámico de memoría por medio de la identificación de la estructura de datos más apropiada y el diseño de un algoritmo para generar una solución."
      ],
      "metadata": {
        "id": "udfxM8XNRTXl"
      }
    },
    {
      "cell_type": "markdown",
      "source": [
        "## Descripción General de la Tarea 1"
      ],
      "metadata": {
        "id": "YefVixPWSBAP"
      }
    },
    {
      "cell_type": "markdown",
      "source": [
        "La Tarea 1 esta diseñado para ser desarrollado por equipos de trabajo de 3 o 4 estudiantes, el cual resolveran 5 ejercicios de manejo dinámico de memoría. Los problemas planteados están enfocados en estructuras de datos basados en listas ligadas, colas y pilas, explicados en clases sincrónicas. Cada problema debe contener el diseño del algoritmo, los resultados con las pruebas solicitadas y una explicación del algoritmo."
      ],
      "metadata": {
        "id": "flo3_YjhSNpm"
      }
    },
    {
      "cell_type": "markdown",
      "source": [
        "## Ejercicios"
      ],
      "metadata": {
        "id": "-B1AFOG9TRlO"
      }
    },
    {
      "cell_type": "markdown",
      "source": [
        "### Ejercicio 1: Concatenación de LSL"
      ],
      "metadata": {
        "id": "0cQZm-XxTV_v"
      }
    },
    {
      "cell_type": "markdown",
      "source": [
        "**Descripción:** Dado dos LSL, *Lista_1* y *Lista_2*, diseñe un algoritmo que permita concatenar ambas listas en una nueva LSL. Posteriormente, la nueva LSL debe estar ordenada de forma ascendente para retornar al usuario la LSL final.\n",
        "\n",
        "**Idea:** Si $Lista_1 = 5 \\rightarrow 7 \\rightarrow 8 \\rightarrow NULL$ y $Lista_2 = 7 \\rightarrow 5 \\rightarrow 2 \\rightarrow NULL$, la nueva LSL, $NuevaLSL = 2 → 5 → 5 \\rightarrow 7 → 7 \\rightarrow 8 → NULL$"
      ],
      "metadata": {
        "id": "IHXk3gd_T0dR"
      }
    },
    {
      "cell_type": "code",
      "execution_count": null,
      "metadata": {
        "id": "tGoWkNt9PJvo"
      },
      "outputs": [],
      "source": [
        "# Diseño del algoritmo\n",
        "# //\n",
        "\n",
        "# //"
      ]
    },
    {
      "cell_type": "markdown",
      "source": [
        "**Explicación del algoritmo: **\n",
        "\n",
        "Por favor, explicar en esta celda el funcionamiento del algoritmo y la estrategía utilizada para su diseño."
      ],
      "metadata": {
        "id": "HDda7ujcV9Go"
      }
    },
    {
      "cell_type": "code",
      "source": [
        "# Prueba 1:\n",
        "# Lista_1 = 7 -> 8 -> 8 -> 1 -> NULL\n",
        "# Lista_2 = 2 -> 9 -> 1 -> 4 -> NULL\n",
        "\n",
        "Lista_1 = LSL()\n",
        "Lista_1.insertar(7)\n",
        "Lista_1.insertar(8)\n",
        "Lista_1.insertar(8)\n",
        "Lista_1.insertar(1)\n",
        "Lista_1.Mostrar()\n",
        "\n",
        "Lista_2 = LSL()\n",
        "Lista_2.insertar(2)\n",
        "Lista_2.insertar(9)\n",
        "Lista_2.insertar(1)\n",
        "Lista_2.insertar(4)\n",
        "Lista_2.Mostrar()\n",
        "\n",
        "# Colocar la función principal para solucionar y la respuesta generada"
      ],
      "metadata": {
        "id": "YuDjh7wKWC7b"
      },
      "execution_count": null,
      "outputs": []
    },
    {
      "cell_type": "code",
      "source": [
        "# Prueba 2:\n",
        "# Lista_1 = 10 -> 9 -> 8 -> 7 -> NULL\n",
        "# Lista_2 = 6 -> 5 -> 4 -> 3 -> 2 -> 1 -> NULL\n",
        "\n",
        "Lista_1 = LSL()\n",
        "Lista_1.insertar(10)\n",
        "Lista_1.insertar(9)\n",
        "Lista_1.insertar(8)\n",
        "Lista_1.insertar(7)\n",
        "Lista_1.Mostrar()\n",
        "\n",
        "Lista_2 = LSL()\n",
        "Lista_2.insertar(6)\n",
        "Lista_2.insertar(5)\n",
        "Lista_2.insertar(4)\n",
        "Lista_2.insertar(3)\n",
        "Lista_2.insertar(2)\n",
        "Lista_2.insertar(1)\n",
        "Lista_2.Mostrar()\n",
        "\n",
        "# Colocar la función principal para solucionar y la respuesta generada"
      ],
      "metadata": {
        "id": "ZTW2iC2wXPcD"
      },
      "execution_count": null,
      "outputs": []
    },
    {
      "cell_type": "code",
      "source": [
        "# Prueba 3:\n",
        "# Lista_1 = 5 -> 5 -> 5 -> 5 -> NULL\n",
        "# Lista_2 = 6 -> 6 -> 6 -> NULL\n",
        "\n",
        "Lista_1 = LSL()\n",
        "Lista_1.insertar(5)\n",
        "Lista_1.insertar(5)\n",
        "Lista_1.insertar(5)\n",
        "Lista_1.insertar(5)\n",
        "Lista_1.Mostrar()\n",
        "\n",
        "Lista_2 = LSL()\n",
        "Lista_2.insertar(6)\n",
        "Lista_2.insertar(6)\n",
        "Lista_2.insertar(6)\n",
        "Lista_2.Mostrar()\n",
        "\n",
        "# Colocar la función principal para solucionar y la respuesta generada"
      ],
      "metadata": {
        "id": "9Mljj8_-Xh6h"
      },
      "execution_count": null,
      "outputs": []
    },
    {
      "cell_type": "markdown",
      "source": [
        "### Ejercicio 2: Ordenamiento de una LDL"
      ],
      "metadata": {
        "id": "rfiJnY6HXxi_"
      }
    },
    {
      "cell_type": "markdown",
      "source": [
        "**Descripción** Considere una LDL donde el usuario ingresa un conjunto de nodos cualquesquiera, es decir, nodos con valores positivos o negativos. Se desea diseñar un algoritmo que permita ordenar los nodos en cualquier forma, ascendente o descendente, tal que el resultado muestre los nodos ordenados y sin nodos repetitivos.\n",
        "\n",
        "**Idea:** Dado una LDL, $Lista = 8 <--> 1 <--> 1 <--> 1 <--> 9 <--> 4 <--> NULL$, el algoritmo debe retonar la siguiente LDL: $Lista = 1 <--> 4 <--> 8 <--> 9 <--> NULL$ o la otra opción, $Lista = 9 <--> 8 <--> 4 <--> 1 <--> NULL$"
      ],
      "metadata": {
        "id": "ON4_llaTYXRi"
      }
    },
    {
      "cell_type": "code",
      "source": [
        "# Diseño del algoritmo\n",
        "# //\n",
        "\n",
        "# //"
      ],
      "metadata": {
        "id": "HEkxyjRffeqR"
      },
      "execution_count": null,
      "outputs": []
    },
    {
      "cell_type": "markdown",
      "source": [
        "**Explicación del algoritmo: **\n",
        "\n",
        "Por favor, explicar en esta celda el funcionamiento del algoritmo y la estrategía utilizada para su diseño."
      ],
      "metadata": {
        "id": "Gt-cSBnRfhe4"
      }
    },
    {
      "cell_type": "code",
      "source": [
        "# Prueba 1:\n",
        "# Lista = 10 <-> 8 <-> 8 <-> 8 <-> 9 <-> NULL\n",
        "\n",
        "Lista = LDL()\n",
        "Lista.insertar(10)\n",
        "Lista.insertar(8)\n",
        "Lista.insertar(8)\n",
        "Lista.insertar(8)\n",
        "Lista.insertar(9)\n",
        "Lista.Mostrar()\n",
        "\n",
        "# Colocar la función principal para solucionar y la respuesta generada"
      ],
      "metadata": {
        "id": "1s-zazYZfp2t"
      },
      "execution_count": null,
      "outputs": []
    },
    {
      "cell_type": "code",
      "source": [
        "# Prueba 2:\n",
        "# Lista = 1 <-> 1 <-> 1 <-> 1 <-> 1 <-> NULL\n",
        "\n",
        "Lista = LDL()\n",
        "Lista.insertar(1)\n",
        "Lista.insertar(1)\n",
        "Lista.insertar(1)\n",
        "Lista.insertar(1)\n",
        "Lista.insertar(1)\n",
        "Lista.Mostrar()\n",
        "\n",
        "# Colocar la función principal para solucionar y la respuesta generada"
      ],
      "metadata": {
        "id": "UoDZFsXhgEKK"
      },
      "execution_count": null,
      "outputs": []
    },
    {
      "cell_type": "code",
      "source": [
        "# Prueba 3:\n",
        "# Lista = 8 <-> 7 <-> 6 <-> -4 <-> -4 <-> -3 <-> -2 <-> -1 <-> NULL\n",
        "\n",
        "Lista = LDL()\n",
        "Lista.insertar(8)\n",
        "Lista.insertar(7)\n",
        "Lista.insertar(6)\n",
        "Lista.insertar(-4)\n",
        "Lista.insertar(-4)\n",
        "Lista.insertar(-3)\n",
        "Lista.insertar(-2)\n",
        "Lista.insertar(-1)\n",
        "Lista.Mostrar()\n",
        "\n",
        "# Colocar la función principal para solucionar y la respuesta generada"
      ],
      "metadata": {
        "id": "HhvEBYLJgMT5"
      },
      "execution_count": null,
      "outputs": []
    },
    {
      "cell_type": "markdown",
      "source": [
        "### Ejercicio 3: Operación de Encolamiento en una LDL"
      ],
      "metadata": {
        "id": "gZ06ZR20gme5"
      }
    },
    {
      "cell_type": "markdown",
      "source": [
        "**Descripción:** Diseñar un algoritmo que permita encolar nodos en una LDL, considerando el método de cola no circular (CNC).\n",
        "\n",
        "**Idea:** Dado una LDL vacía, $Lista = NULL$, se desea encolar el nodo $3$, tal que la LDL se actualiza como $Lista = 3 <--> NULL$. Al encolar el nodo $4$, la LDL se actualiza de nuevo como $Lista = 3 <--> 4 <--> NULL$"
      ],
      "metadata": {
        "id": "0aMhTjsUhNg5"
      }
    },
    {
      "cell_type": "code",
      "source": [
        "# Diseño del algoritmo\n",
        "# //\n",
        "\n",
        "# //"
      ],
      "metadata": {
        "id": "9_Ao4LtyiNGh"
      },
      "execution_count": null,
      "outputs": []
    },
    {
      "cell_type": "markdown",
      "source": [
        "**Explicación del algoritmo: **\n",
        "\n",
        "Por favor, explicar en esta celda el funcionamiento del algoritmo y la estrategía utilizada para su diseño."
      ],
      "metadata": {
        "id": "LOoO5qcRiPwa"
      }
    },
    {
      "cell_type": "code",
      "source": [
        "# Prueba 1:\n",
        "# Generar una LDL = 1 <-> 5 <-> 6 <-> 9 <-> 10 <-> NULL\n",
        "\n",
        "# Colocar la función principal para solucionar y la respuesta generada"
      ],
      "metadata": {
        "id": "vSAY2P-eiSJb"
      },
      "execution_count": null,
      "outputs": []
    },
    {
      "cell_type": "code",
      "source": [
        "# Prueba 2:\n",
        "# Generar una LDL = 8 <-> 8 <-> 10 <-> 10 <-> 20 <-> NULL\n",
        "\n",
        "# Colocar la función principal para solucionar y la respuesta generada"
      ],
      "metadata": {
        "id": "FdbVfU7yid0a"
      },
      "execution_count": null,
      "outputs": []
    },
    {
      "cell_type": "markdown",
      "source": [
        "### Ejercicio 4: Recuperación de valores desapilados desde una nueva lista\n",
        "\n"
      ],
      "metadata": {
        "id": "xZfGpiaNikxA"
      }
    },
    {
      "cell_type": "markdown",
      "source": [
        "**Descripción:** Considere una lista de valores con un tamaño $n$ definido por el usuario. A partir de lo anterior, diseñar un algoritmo que permita desapilar los valores de la lista y recuperar sus valores a través de una nueva variable.\n",
        "\n",
        "**Idea:** Dado una lista, $Lista = [8, 7 , 1, 3, 9]$, se realiza una operación de desapilar tal que en una nueva variable, $ListaNueva$, se muestre los valores removidos previamente, $ListaNueva = [9, 3, 1, 7, 8]$"
      ],
      "metadata": {
        "id": "Lv4c_tCUi_CJ"
      }
    },
    {
      "cell_type": "code",
      "source": [
        "# Diseño del algoritmo\n",
        "# //\n",
        "\n",
        "# //"
      ],
      "metadata": {
        "id": "eWluLxMDi1kK"
      },
      "execution_count": null,
      "outputs": []
    },
    {
      "cell_type": "markdown",
      "source": [
        "**Explicación del algoritmo: **\n",
        "\n",
        "Por favor, explicar en esta celda el funcionamiento del algoritmo y la estrategía utilizada para su diseño."
      ],
      "metadata": {
        "id": "mtmf9P5QkFIM"
      }
    },
    {
      "cell_type": "code",
      "source": [
        "# Prueba 1:\n",
        "# Lista = [2, 7, 9, 5, 7, 5]\n",
        "\n",
        "# Colocar la función principal para solucionar y la respuesta generada"
      ],
      "metadata": {
        "id": "CZje5sqtkK5f"
      },
      "execution_count": null,
      "outputs": []
    },
    {
      "cell_type": "code",
      "source": [
        "# Prueba 2:\n",
        "# Lista = [1, 1, 1, 1, 1, 1]\n",
        "\n",
        "# Colocar la función principal para solucionar y la respuesta generada"
      ],
      "metadata": {
        "id": "yOr6GjnckhV1"
      },
      "execution_count": null,
      "outputs": []
    },
    {
      "cell_type": "code",
      "source": [
        "# Prueba 3:\n",
        "# Lista = [5, 5, 7, 7, 1, 1]\n",
        "\n",
        "# Colocar la función principal para solucionar y la respuesta generada"
      ],
      "metadata": {
        "id": "aaPIa-SYklx_"
      },
      "execution_count": null,
      "outputs": []
    },
    {
      "cell_type": "markdown",
      "source": [
        "### Ejercicio 5: Implementación de una pila usando una estructura de datos generado por colas"
      ],
      "metadata": {
        "id": "BMOq4eW5ktxU"
      }
    },
    {
      "cell_type": "markdown",
      "source": [
        "**Descripción:** Diseñar una pila tal que soporte las operaciones de apilar y desapilar usando operaciones de encolar y desencolar de una cola.\n",
        "\n",
        "**Idea:** La estrategía es implementar la operación de desencolar de forma que el último elemento añadido siempre acabe en la parte inicial de la cola. Se sugiere para este paso, una contenedor cola adicional. Por otra parte, para introducir un elemento en la pila, primero hay que mover todos los elementos de la primera cola a la segunda cola, luego poner en cola el nuevo elemento en la primera cola y, por último, volcer a mover todos los elementos a la primera cola. Lo anterior asegura que el nuevo elemento se encuentre delante de la cola y por consiguiente, sería el primero en ser removido. Para sacar un elemento de la pila, es necesario devolver el elemento ubicado delante de la primera cola.\n",
        "\n",
        "\n",
        "\n",
        "\n",
        "\n"
      ],
      "metadata": {
        "id": "d74gtucMc34g"
      }
    },
    {
      "cell_type": "code",
      "source": [
        "# Diseño del algoritmo\n",
        "# //\n",
        "\n",
        "# //"
      ],
      "metadata": {
        "id": "etsJ0yslc3Dj"
      },
      "execution_count": null,
      "outputs": []
    },
    {
      "cell_type": "markdown",
      "source": [
        "**Explicación del algoritmo: **\n",
        "\n",
        "Por favor, explicar en esta celda el funcionamiento del algoritmo y la estrategía utilizada para su diseño."
      ],
      "metadata": {
        "id": "noYTg8zJmhTo"
      }
    },
    {
      "cell_type": "code",
      "source": [
        "# Prueba 1:\n",
        "# Lista = [10, 11, 12, 13, 14, 15],\n",
        "\n",
        "# Colocar la función principal para solucionar y la respuesta generada"
      ],
      "metadata": {
        "id": "LrJNRo5Pm7Hp"
      },
      "execution_count": null,
      "outputs": []
    },
    {
      "cell_type": "code",
      "source": [
        "# Prueba 2:\n",
        "# Lista = [1, 2, 3, 4, 5, 6],\n",
        "\n",
        "# Colocar la función principal para solucionar y la respuesta generada"
      ],
      "metadata": {
        "id": "h26RZ7yYnMx-"
      },
      "execution_count": null,
      "outputs": []
    },
    {
      "cell_type": "code",
      "source": [
        "# Prueba 3:\n",
        "# Lista = [50, 40, 30, 20, 10, 0],\n",
        "\n",
        "# Colocar la función principal para solucionar y la respuesta generada"
      ],
      "metadata": {
        "id": "hEGhMsNLnNZN"
      },
      "execution_count": null,
      "outputs": []
    }
  ]
}