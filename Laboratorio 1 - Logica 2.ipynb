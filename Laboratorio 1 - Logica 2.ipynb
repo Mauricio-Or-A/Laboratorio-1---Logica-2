{
  "cells": [
    {
      "cell_type": "markdown",
      "metadata": {
        "id": "RA2MsnIIPkVH"
      },
      "source": [
        "# Tarea 1: Manejo Dinámico de Memoría"
      ]
    },
    {
      "cell_type": "markdown",
      "metadata": {
        "id": "Q-4lJXtOQkfW"
      },
      "source": [
        "*   *Nombres y Apellidos:*\n",
        "*   *CC o TI:*\n",
        "\n",
        "*   *Nombres y Apellidos:*\n",
        "*   *CC o TI:*\n",
        "\n",
        "*   *Nombres y Apellidos:* **Jose Julian Rangel Aguas**\n",
        "*   *CC o TI:* **1063290923**\n",
        "\n",
        "*   *Nombres y Apellidos:* **Darwin Esteban Salazar Garcia**\n",
        "*   *CC o TI:* **271244**"
      ]
    },
    {
      "cell_type": "markdown",
      "metadata": {
        "id": "pwnlInu2njuE"
      },
      "source": [
        "**Fecha límite de entrega**: 2 de septiembre de 2024, antes de las 11:59 pm"
      ]
    },
    {
      "cell_type": "markdown",
      "metadata": {
        "id": "nZw4PZEIROUn"
      },
      "source": [
        "## Objetivo de Aprendizaje para la Tarea 1"
      ]
    },
    {
      "cell_type": "markdown",
      "metadata": {
        "id": "udfxM8XNRTXl"
      },
      "source": [
        "Analizar la descripción del problema de manejo dinámico de memoría por medio de la identificación de la estructura de datos más apropiada y el diseño de un algoritmo para generar una solución."
      ]
    },
    {
      "cell_type": "markdown",
      "metadata": {
        "id": "YefVixPWSBAP"
      },
      "source": [
        "## Descripción General de la Tarea 1"
      ]
    },
    {
      "cell_type": "markdown",
      "metadata": {
        "id": "flo3_YjhSNpm"
      },
      "source": [
        "La Tarea 1 esta diseñado para ser desarrollado por equipos de trabajo de 3 o 4 estudiantes, el cual resolveran 5 ejercicios de manejo dinámico de memoría. Los problemas planteados están enfocados en estructuras de datos basados en listas ligadas, colas y pilas, explicados en clases sincrónicas. Cada problema debe contener el diseño del algoritmo, los resultados con las pruebas solicitadas y una explicación del algoritmo."
      ]
    },
    {
      "cell_type": "markdown",
      "metadata": {
        "id": "-B1AFOG9TRlO"
      },
      "source": [
        "## Ejercicios"
      ]
    },
    {
      "cell_type": "markdown",
      "metadata": {
        "id": "0cQZm-XxTV_v"
      },
      "source": [
        "### Ejercicio 1: Concatenación de LSL"
      ]
    },
    {
      "cell_type": "markdown",
      "metadata": {
        "id": "IHXk3gd_T0dR"
      },
      "source": [
        "**Descripción:** Dado dos LSL, *Lista_1* y *Lista_2*, diseñe un algoritmo que permita concatenar ambas listas en una nueva LSL. Posteriormente, la nueva LSL debe estar ordenada de forma ascendente para retornar al usuario la LSL final.\n",
        "\n",
        "**Idea:** Si $Lista_1 = 5 \\rightarrow 7 \\rightarrow 8 \\rightarrow NULL$ y $Lista_2 = 7 \\rightarrow 5 \\rightarrow 2 \\rightarrow NULL$, la nueva LSL, $NuevaLSL = 2 → 5 → 5 \\rightarrow 7 → 7 \\rightarrow 8 → NULL$"
      ]
    },
    {
      "cell_type": "code",
      "execution_count": null,
      "metadata": {
        "id": "tGoWkNt9PJvo"
      },
      "outputs": [],
      "source": [
        "# Diseño del algoritmo\n",
        "# //\n",
        "\n",
        "# //"
      ]
    },
    {
      "cell_type": "markdown",
      "metadata": {
        "id": "HDda7ujcV9Go"
      },
      "source": [
        "**Explicación del algoritmo: **\n",
        "\n",
        "Por favor, explicar en esta celda el funcionamiento del algoritmo y la estrategía utilizada para su diseño."
      ]
    },
    {
      "cell_type": "code",
      "execution_count": null,
      "metadata": {
        "id": "YuDjh7wKWC7b"
      },
      "outputs": [],
      "source": [
        "# Prueba 1:\n",
        "# Lista_1 = 7 -> 8 -> 8 -> 1 -> NULL\n",
        "# Lista_2 = 2 -> 9 -> 1 -> 4 -> NULL\n",
        "\n",
        "Lista_1 = LSL()\n",
        "Lista_1.insertar(7)\n",
        "Lista_1.insertar(8)\n",
        "Lista_1.insertar(8)\n",
        "Lista_1.insertar(1)\n",
        "Lista_1.Mostrar()\n",
        "\n",
        "Lista_2 = LSL()\n",
        "Lista_2.insertar(2)\n",
        "Lista_2.insertar(9)\n",
        "Lista_2.insertar(1)\n",
        "Lista_2.insertar(4)\n",
        "Lista_2.Mostrar()\n",
        "\n",
        "# Colocar la función principal para solucionar y la respuesta generada"
      ]
    },
    {
      "cell_type": "code",
      "execution_count": null,
      "metadata": {
        "id": "ZTW2iC2wXPcD"
      },
      "outputs": [],
      "source": [
        "# Prueba 2:\n",
        "# Lista_1 = 10 -> 9 -> 8 -> 7 -> NULL\n",
        "# Lista_2 = 6 -> 5 -> 4 -> 3 -> 2 -> 1 -> NULL\n",
        "\n",
        "Lista_1 = LSL()\n",
        "Lista_1.insertar(10)\n",
        "Lista_1.insertar(9)\n",
        "Lista_1.insertar(8)\n",
        "Lista_1.insertar(7)\n",
        "Lista_1.Mostrar()\n",
        "\n",
        "Lista_2 = LSL()\n",
        "Lista_2.insertar(6)\n",
        "Lista_2.insertar(5)\n",
        "Lista_2.insertar(4)\n",
        "Lista_2.insertar(3)\n",
        "Lista_2.insertar(2)\n",
        "Lista_2.insertar(1)\n",
        "Lista_2.Mostrar()\n",
        "\n",
        "# Colocar la función principal para solucionar y la respuesta generada"
      ]
    },
    {
      "cell_type": "code",
      "execution_count": null,
      "metadata": {
        "id": "9Mljj8_-Xh6h"
      },
      "outputs": [],
      "source": [
        "# Prueba 3:\n",
        "# Lista_1 = 5 -> 5 -> 5 -> 5 -> NULL\n",
        "# Lista_2 = 6 -> 6 -> 6 -> NULL\n",
        "\n",
        "Lista_1 = LSL()\n",
        "Lista_1.insertar(5)\n",
        "Lista_1.insertar(5)\n",
        "Lista_1.insertar(5)\n",
        "Lista_1.insertar(5)\n",
        "Lista_1.Mostrar()\n",
        "\n",
        "Lista_2 = LSL()\n",
        "Lista_2.insertar(6)\n",
        "Lista_2.insertar(6)\n",
        "Lista_2.insertar(6)\n",
        "Lista_2.Mostrar()\n",
        "\n",
        "# Colocar la función principal para solucionar y la respuesta generada"
      ]
    },
    {
      "cell_type": "markdown",
      "metadata": {
        "id": "rfiJnY6HXxi_"
      },
      "source": [
        "### Ejercicio 2: Ordenamiento de una LDL"
      ]
    },
    {
      "cell_type": "markdown",
      "metadata": {
        "id": "ON4_llaTYXRi"
      },
      "source": [
        "**Descripción** Considere una LDL donde el usuario ingresa un conjunto de nodos cualquesquiera, es decir, nodos con valores positivos o negativos. Se desea diseñar un algoritmo que permita ordenar los nodos en cualquier forma, ascendente o descendente, tal que el resultado muestre los nodos ordenados y sin nodos repetitivos.\n",
        "\n",
        "**Idea:** Dado una LDL, $Lista = 8 <--> 1 <--> 1 <--> 1 <--> 9 <--> 4 <--> NULL$, el algoritmo debe retonar la siguiente LDL: $Lista = 1 <--> 4 <--> 8 <--> 9 <--> NULL$ o la otra opción, $Lista = 9 <--> 8 <--> 4 <--> 1 <--> NULL$"
      ]
    },
    {
      "cell_type": "code",
      "execution_count": null,
      "metadata": {},
      "outputs": [],
      "source": [
        "class Nodo:\n",
        "    def __init__(self, v):\n",
        "        self.valor, self.anterior, self.siguiente = v, None, None\n",
        "\n",
        "class LDL:\n",
        "    def __init__(self):\n",
        "        self.cabeza = None\n",
        "        self.cola = None\n",
        "\n",
        "    def insertar(self, v):\n",
        "        n = Nodo(v)\n",
        "        if not self.cabeza:\n",
        "            self.cabeza = self.cola = n\n",
        "        else:\n",
        "            self.cola.siguiente, n.anterior, self.cola = n, self.cola, n\n",
        "\n",
        "\n",
        "    def ordenar_sin_repetidos(self, asc=True):\n",
        "        if not self.cabeza or not self.cabeza.siguiente:\n",
        "            return\n",
        "        \n",
        "        def comparar(a, b, asc=True):\n",
        "            return a > b if asc else a < b\n",
        "\n",
        "    # --- Ordenar la lista reacomodando cada nodo en su posición correcta ---\n",
        "        actual = self.cabeza.siguiente\n",
        "        while actual:\n",
        "            clave = actual\n",
        "            mover = actual.anterior\n",
        "            siguiente = actual.siguiente\n",
        "\n",
        "            while mover and comparar(mover.valor, clave.valor, asc):\n",
        "                mover = mover.anterior\n",
        "\n",
        "            # quitar clave de su lugar\n",
        "            if clave.anterior: clave.anterior.siguiente = clave.siguiente\n",
        "            if clave.siguiente: clave.siguiente.anterior = clave.anterior\n",
        "            if clave == self.cola: self.cola = clave.anterior\n",
        "\n",
        "            # reinsertar clave\n",
        "            if not mover:\n",
        "                clave.siguiente = self.cabeza\n",
        "                self.cabeza.anterior = clave\n",
        "                self.cabeza = clave\n",
        "                clave.anterior = None\n",
        "            else:\n",
        "                clave.siguiente = mover.siguiente\n",
        "                if mover.siguiente: mover.siguiente.anterior = clave\n",
        "                mover.siguiente = clave\n",
        "                clave.anterior = mover\n",
        "                if mover == self.cola: self.cola = clave\n",
        "\n",
        "            actual = siguiente\n",
        "\n",
        "        # --- quitar duplicados ---\n",
        "        cur = self.cabeza\n",
        "        while cur and cur.siguiente:\n",
        "            if cur.valor == cur.siguiente.valor:\n",
        "                dup = cur.siguiente\n",
        "                cur.siguiente = dup.siguiente\n",
        "                if dup.siguiente: dup.siguiente.anterior = cur\n",
        "                else: self.cola = cur\n",
        "            else:\n",
        "                cur = cur.siguiente\n",
        "\n",
        "    def Mostrar(self):\n",
        "        cur, piezas = self.cabeza, []\n",
        "        while cur:\n",
        "            piezas.append(str(cur.valor))\n",
        "            cur = cur.siguiente\n",
        "        print(\" <-> \".join(piezas) + \" <-> NULL\" if piezas else \"NULL\")\n"
      ]
    },
    {
      "cell_type": "markdown",
      "metadata": {
        "id": "Gt-cSBnRfhe4"
      },
      "source": [
        "**Explicación del algoritmo:**\n",
        "\n",
        "Por favor, explicar en esta celda el funcionamiento del algoritmo y la estrategía utilizada para su diseño.\n",
        "\n",
        "\n",
        "**Aplicación del algoritmo**\n",
        "\n",
        "Este algoritmo trabaja con una lista doblemente enlazada (LDL) que puede contener números repetidos y se encarga de ordenarlos, ya sea de forma ascendente o descendente, devolviendo al final la lista ordenada en el orden elegido y sin los números duplicados.\n",
        "\n",
        "**Estrategia**\n",
        "\n",
        "● Ordenar la lista: Tomamos un nodo, que llamamos \"clave\", y lo comparamos con los nodos que están antes de él. Si no está en la posición correcta, lo desconectamos de su lugar actual y lo colocamos donde realmente debería estar. La doble ligadura, que conecta el nodo anterior y el siguiente, nos permite mover nodos hacia adelante o hacia atrás sin perder el enlace en la lista.\n",
        "\n",
        "● Eliminar duplicados:\n",
        "Cuando la lista está ordenada, todos los valores iguales se juntan uno al lado del otro, luego recorremos la lista y, si encontramos que un nodo tiene el mismo valor que el siguiente, eliminamos el duplicado ajustando los enlaces entre los nods."
      ]
    },
    {
      "cell_type": "code",
      "execution_count": 33,
      "metadata": {
        "id": "1s-zazYZfp2t"
      },
      "outputs": [
        {
          "name": "stdout",
          "output_type": "stream",
          "text": [
            "\n",
            "Prueba 1 - original:\n",
            "8 <-> 10 <-> 8 <-> 8 <-> 9 <-> NULL\n",
            "\n",
            "Prueba 1 - ascendente sin repetidos:\n",
            "8 <-> 9 <-> 10 <-> NULL\n",
            "\n",
            "Prueba 1 - descendente sin repetidos:\n",
            "10 <-> 9 <-> 8 <-> NULL\n"
          ]
        }
      ],
      "source": [
        "# Prueba 1:\n",
        "# Lista = 10 <-> 8 <-> 8 <-> 8 <-> 9 <-> NULL\n",
        "\n",
        "Lista = LDL()\n",
        "Lista.insertar(8)\n",
        "Lista.insertar(10)\n",
        "Lista.insertar(8)\n",
        "Lista.insertar(8)\n",
        "Lista.insertar(9)\n",
        "print(\"\\nPrueba 1 - original:\")\n",
        "Lista.Mostrar()\n",
        "\n",
        "print(\"\\nPrueba 1 - ascendente sin repetidos:\")\n",
        "Lista.ordenar_sin_repetidos(asc=True)\n",
        "Lista.Mostrar()\n",
        "\n",
        "print(\"\\nPrueba 1 - descendente sin repetidos:\")\n",
        "Lista.ordenar_sin_repetidos(asc=False)  # ya está sin repetidos, solo reordena\n",
        "Lista.Mostrar()\n",
        "\n",
        "# Colocar la función principal para solucionar y la respuesta generada"
      ]
    },
    {
      "cell_type": "code",
      "execution_count": 34,
      "metadata": {
        "id": "UoDZFsXhgEKK"
      },
      "outputs": [
        {
          "name": "stdout",
          "output_type": "stream",
          "text": [
            "\n",
            "Prueba 2 - original:\n",
            "1 <-> 1 <-> 1 <-> 1 <-> 1 <-> NULL\n",
            "\n",
            "Prueba 2 - ascendente sin repetidos:\n",
            "1 <-> NULL\n",
            "\n",
            "Prueba 2 - descendente sin repetidos:\n",
            "1 <-> NULL\n"
          ]
        }
      ],
      "source": [
        "# Prueba 2:\n",
        "# Lista = 1 <-> 1 <-> 1 <-> 1 <-> 1 <-> NULL\n",
        "\n",
        "Lista = LDL()\n",
        "Lista.insertar(1)\n",
        "Lista.insertar(1)\n",
        "Lista.insertar(1)\n",
        "Lista.insertar(1)\n",
        "Lista.insertar(1)\n",
        "\n",
        "print(\"\\nPrueba 2 - original:\")\n",
        "Lista.Mostrar()\n",
        "\n",
        "print(\"\\nPrueba 2 - ascendente sin repetidos:\")\n",
        "Lista.ordenar_sin_repetidos(asc=True)\n",
        "Lista.Mostrar()\n",
        "\n",
        "print(\"\\nPrueba 2 - descendente sin repetidos:\")\n",
        "Lista.ordenar_sin_repetidos(asc=False)\n",
        "Lista.Mostrar()\n",
        "\n",
        "# Colocar la función principal para solucionar y la respuesta generada"
      ]
    },
    {
      "cell_type": "code",
      "execution_count": 35,
      "metadata": {
        "id": "HhvEBYLJgMT5"
      },
      "outputs": [
        {
          "name": "stdout",
          "output_type": "stream",
          "text": [
            "\n",
            "Prueba 3 - original:\n",
            "8 <-> 7 <-> 6 <-> -4 <-> -4 <-> -3 <-> -2 <-> -4 <-> -1 <-> NULL\n",
            "\n",
            "Prueba 3 - ascendente sin repetidos:\n",
            "-4 <-> -3 <-> -2 <-> -1 <-> 6 <-> 7 <-> 8 <-> NULL\n",
            "\n",
            "Prueba 3 - descendente sin repetidos:\n",
            "8 <-> 7 <-> 6 <-> -1 <-> -2 <-> -3 <-> -4 <-> NULL\n"
          ]
        }
      ],
      "source": [
        "# Prueba 3:\n",
        "# Lista = 8 <-> 7 <-> 6 <-> -4 <-> -4 <-> -3 <-> -2 <-> -1 <-> NULL\n",
        "\n",
        "Lista = LDL()\n",
        "Lista.insertar(8)\n",
        "Lista.insertar(7)\n",
        "Lista.insertar(6)\n",
        "Lista.insertar(-4)\n",
        "Lista.insertar(-4)\n",
        "Lista.insertar(-3)\n",
        "Lista.insertar(-2)\n",
        "Lista.insertar(-4)\n",
        "Lista.insertar(-1)\n",
        "\n",
        "print(\"\\nPrueba 3 - original:\")\n",
        "Lista.Mostrar()\n",
        "\n",
        "print(\"\\nPrueba 3 - ascendente sin repetidos:\")\n",
        "Lista.ordenar_sin_repetidos(asc=True)\n",
        "Lista.Mostrar()\n",
        "\n",
        "print(\"\\nPrueba 3 - descendente sin repetidos:\")\n",
        "Lista.ordenar_sin_repetidos(asc=False)\n",
        "Lista.Mostrar()\n",
        "\n",
        "\n",
        "# Colocar la función principal para solucionar y la respuesta generada"
      ]
    },
    {
      "cell_type": "markdown",
      "metadata": {
        "id": "gZ06ZR20gme5"
      },
      "source": [
        "### Ejercicio 3: Operación de Encolamiento en una LDL"
      ]
    },
    {
      "cell_type": "markdown",
      "metadata": {
        "id": "0aMhTjsUhNg5"
      },
      "source": [
        "**Descripción:** Diseñar un algoritmo que permita encolar nodos en una LDL, considerando el método de cola no circular (CNC).\n",
        "\n",
        "**Idea:** Dado una LDL vacía, $Lista = NULL$, se desea encolar el nodo $3$, tal que la LDL se actualiza como $Lista = 3 <--> NULL$. Al encolar el nodo $4$, la LDL se actualiza de nuevo como $Lista = 3 <--> 4 <--> NULL$"
      ]
    },
    {
      "cell_type": "code",
      "execution_count": null,
      "metadata": {
        "id": "9_Ao4LtyiNGh"
      },
      "outputs": [],
      "source": [
        "# Diseño del algoritmo\n",
        "# //\n",
        "\n",
        "# //"
      ]
    },
    {
      "cell_type": "markdown",
      "metadata": {
        "id": "LOoO5qcRiPwa"
      },
      "source": [
        "**Explicación del algoritmo: **\n",
        "\n",
        "Por favor, explicar en esta celda el funcionamiento del algoritmo y la estrategía utilizada para su diseño."
      ]
    },
    {
      "cell_type": "code",
      "execution_count": null,
      "metadata": {
        "id": "vSAY2P-eiSJb"
      },
      "outputs": [],
      "source": [
        "# Prueba 1:\n",
        "# Generar una LDL = 1 <-> 5 <-> 6 <-> 9 <-> 10 <-> NULL\n",
        "\n",
        "# Colocar la función principal para solucionar y la respuesta generada"
      ]
    },
    {
      "cell_type": "code",
      "execution_count": null,
      "metadata": {
        "id": "FdbVfU7yid0a"
      },
      "outputs": [],
      "source": [
        "# Prueba 2:\n",
        "# Generar una LDL = 8 <-> 8 <-> 10 <-> 10 <-> 20 <-> NULL\n",
        "\n",
        "# Colocar la función principal para solucionar y la respuesta generada"
      ]
    },
    {
      "cell_type": "markdown",
      "metadata": {
        "id": "xZfGpiaNikxA"
      },
      "source": [
        "### Ejercicio 4: Recuperación de valores desapilados desde una nueva lista\n",
        "\n"
      ]
    },
    {
      "cell_type": "markdown",
      "metadata": {
        "id": "Lv4c_tCUi_CJ"
      },
      "source": [
        "**Descripción:** Considere una lista de valores con un tamaño $n$ definido por el usuario. A partir de lo anterior, diseñar un algoritmo que permita desapilar los valores de la lista y recuperar sus valores a través de una nueva variable.\n",
        "\n",
        "**Idea:** Dado una lista, $Lista = [8, 7 , 1, 3, 9]$, se realiza una operación de desapilar tal que en una nueva variable, $ListaNueva$, se muestre los valores removidos previamente, $ListaNueva = [9, 3, 1, 7, 8]$"
      ]
    },
    {
      "cell_type": "code",
      "execution_count": null,
      "metadata": {
        "id": "eWluLxMDi1kK"
      },
      "outputs": [],
      "source": [
        "# Diseño del algoritmo\n",
        "# //\n",
        "\n",
        "# //"
      ]
    },
    {
      "cell_type": "markdown",
      "metadata": {
        "id": "mtmf9P5QkFIM"
      },
      "source": [
        "**Explicación del algoritmo: **\n",
        "\n",
        "Por favor, explicar en esta celda el funcionamiento del algoritmo y la estrategía utilizada para su diseño."
      ]
    },
    {
      "cell_type": "code",
      "execution_count": null,
      "metadata": {
        "id": "CZje5sqtkK5f"
      },
      "outputs": [],
      "source": [
        "# Prueba 1:\n",
        "# Lista = [2, 7, 9, 5, 7, 5]\n",
        "\n",
        "# Colocar la función principal para solucionar y la respuesta generada"
      ]
    },
    {
      "cell_type": "code",
      "execution_count": null,
      "metadata": {
        "id": "yOr6GjnckhV1"
      },
      "outputs": [],
      "source": [
        "# Prueba 2:\n",
        "# Lista = [1, 1, 1, 1, 1, 1]\n",
        "\n",
        "# Colocar la función principal para solucionar y la respuesta generada"
      ]
    },
    {
      "cell_type": "code",
      "execution_count": null,
      "metadata": {
        "id": "aaPIa-SYklx_"
      },
      "outputs": [],
      "source": [
        "# Prueba 3:\n",
        "# Lista = [5, 5, 7, 7, 1, 1]\n",
        "\n",
        "# Colocar la función principal para solucionar y la respuesta generada"
      ]
    },
    {
      "cell_type": "markdown",
      "metadata": {
        "id": "BMOq4eW5ktxU"
      },
      "source": [
        "### Ejercicio 5: Implementación de una pila usando una estructura de datos generado por colas"
      ]
    },
    {
      "cell_type": "markdown",
      "metadata": {
        "id": "d74gtucMc34g"
      },
      "source": [
        "**Descripción:** Diseñar una pila tal que soporte las operaciones de apilar y desapilar usando operaciones de encolar y desencolar de una cola.\n",
        "\n",
        "**Idea:** La estrategía es implementar la operación de desencolar de forma que el último elemento añadido siempre acabe en la parte inicial de la cola. Se sugiere para este paso, una contenedor cola adicional. Por otra parte, para introducir un elemento en la pila, primero hay que mover todos los elementos de la primera cola a la segunda cola, luego poner en cola el nuevo elemento en la primera cola y, por último, volcer a mover todos los elementos a la primera cola. Lo anterior asegura que el nuevo elemento se encuentre delante de la cola y por consiguiente, sería el primero en ser removido. Para sacar un elemento de la pila, es necesario devolver el elemento ubicado delante de la primera cola.\n",
        "\n",
        "\n",
        "\n",
        "\n",
        "\n"
      ]
    },
    {
      "cell_type": "code",
      "execution_count": null,
      "metadata": {
        "id": "etsJ0yslc3Dj"
      },
      "outputs": [],
      "source": [
        "# Diseño del algoritmo\n",
        "# //\n",
        "\n",
        "# //"
      ]
    },
    {
      "cell_type": "markdown",
      "metadata": {
        "id": "noYTg8zJmhTo"
      },
      "source": [
        "**Explicación del algoritmo: **\n",
        "\n",
        "Por favor, explicar en esta celda el funcionamiento del algoritmo y la estrategía utilizada para su diseño."
      ]
    },
    {
      "cell_type": "code",
      "execution_count": null,
      "metadata": {
        "id": "LrJNRo5Pm7Hp"
      },
      "outputs": [
        {
          "name": "stdout",
          "output_type": "stream",
          "text": [
            "Pila después de apilar: [15, 14, 13, 12, 11, 10]\n",
            "Elemento desapilado: 15\n",
            "Pila final: [14, 13, 12, 11, 10]\n"
          ]
        }
      ],
      "source": [
        "# Prueba 1:\n",
        "Lista = [10, 11, 12, 13, 14, 15]\n",
        "\n",
        "cola1 = []\n",
        "cola2 = []\n",
        "\n",
        "for elementos in Lista:\n",
        "    while cola1:\n",
        "        cola2.append(cola1[0])\n",
        "        cola1 = cola1[1:]\n",
        "    \n",
        "    cola1.append(elementos)\n",
        "    \n",
        "    while cola2:\n",
        "        cola1.append(cola2[0])\n",
        "        cola2 = cola2[1:]\n",
        "\n",
        "print(\"Pila después de apilar:\", cola1)\n",
        "\n",
        "if cola1:\n",
        "    desapilado = cola1[0]\n",
        "    cola1 = cola1[1:]\n",
        "    print(\"Elemento desapilado:\", desapilado)\n",
        "else:\n",
        "    print(\"La pila está vacía\")\n",
        "\n",
        "print(\"Pila final:\", cola1)\n",
        "\n",
        "\n",
        "# Colocar la función principal para solucionar y la respuesta generada"
      ]
    },
    {
      "cell_type": "code",
      "execution_count": 4,
      "metadata": {
        "id": "h26RZ7yYnMx-"
      },
      "outputs": [
        {
          "name": "stdout",
          "output_type": "stream",
          "text": [
            "Pila después de apilar: [6, 5, 4, 3, 2, 1]\n",
            "Elemento desapilado: 6\n",
            "Pila final: [5, 4, 3, 2, 1]\n"
          ]
        }
      ],
      "source": [
        "# Prueba 2:\n",
        "Lista = [1, 2, 3, 4, 5, 6]\n",
        "\n",
        "cola1 = []\n",
        "cola2 = []\n",
        "\n",
        "for elementos in Lista:\n",
        "    while cola1:\n",
        "        cola2.append(cola1[0])\n",
        "        cola1 = cola1[1:]\n",
        "    cola1.append(elementos)\n",
        "    while cola2:\n",
        "        cola1.append(cola2[0])\n",
        "        cola2 = cola2[1:]\n",
        "\n",
        "print(\"Pila después de apilar:\", cola1)\n",
        "\n",
        "if cola1:\n",
        "    desapilado = cola1[0]\n",
        "    cola1 = cola1[1:]\n",
        "    print(\"Elemento desapilado:\", desapilado)\n",
        "else:\n",
        "    print(\"La pila está vacía\")\n",
        "\n",
        "print(\"Pila final:\", cola1)\n",
        "\n",
        "\n",
        "# Colocar la función principal para solucionar y la respuesta generada"
      ]
    },
    {
      "cell_type": "code",
      "execution_count": 6,
      "metadata": {
        "id": "hEGhMsNLnNZN"
      },
      "outputs": [
        {
          "name": "stdout",
          "output_type": "stream",
          "text": [
            "Pila después de apilar: [0, 10, 20, 30, 40, 50]\n",
            "Elemento desapilado: 0\n",
            "Pila final: [10, 20, 30, 40, 50]\n"
          ]
        }
      ],
      "source": [
        "# Prueba 3:\n",
        "Lista = [50, 40, 30, 20, 10, 0]\n",
        "\n",
        "cola1 = []\n",
        "cola2 = []\n",
        "\n",
        "for elementos in Lista:\n",
        "    while cola1:\n",
        "        cola2.append(cola1[0])\n",
        "        cola1 = cola1[1:]\n",
        "    cola1.append(elementos)\n",
        "    while cola2:\n",
        "        cola1.append(cola2[0])\n",
        "        cola2 = cola2[1:]\n",
        "\n",
        "print(\"Pila después de apilar:\", cola1)\n",
        "\n",
        "if cola1:\n",
        "    desapilado = cola1[0]\n",
        "    cola1 = cola1[1:]\n",
        "    print(\"Elemento desapilado:\", desapilado)\n",
        "else:\n",
        "    print(\"La pila está vacía\")\n",
        "\n",
        "print(\"Pila final:\", cola1)\n",
        "\n",
        "\n",
        "# Colocar la función principal para solucionar y la respuesta generada"
      ]
    }
  ],
  "metadata": {
    "colab": {
      "private_outputs": true,
      "provenance": [],
      "toc_visible": true
    },
    "kernelspec": {
      "display_name": "Python 3",
      "name": "python3"
    },
    "language_info": {
      "codemirror_mode": {
        "name": "ipython",
        "version": 3
      },
      "file_extension": ".py",
      "mimetype": "text/x-python",
      "name": "python",
      "nbconvert_exporter": "python",
      "pygments_lexer": "ipython3",
      "version": "3.13.2"
    }
  },
  "nbformat": 4,
  "nbformat_minor": 0
}
