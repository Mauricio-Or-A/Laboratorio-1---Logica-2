{
  "cells": [
    {
      "cell_type": "markdown",
      "metadata": {
        "id": "RA2MsnIIPkVH"
      },
      "source": [
        "# Tarea 1: Manejo Dinámico de Memoría"
      ]
    },
    {
      "cell_type": "markdown",
      "metadata": {
        "id": "Q-4lJXtOQkfW"
      },
      "source": [
        "*   *Nombres y Apellidos:* **Mauricio Andres Ortega Arango**\n",
        "*   *CC o TI:* **1043297054**\n",
        "\n",
        "*   *Nombres y Apellidos:*\n",
        "*   *CC o TI:*\n",
        "\n",
        "*   *Nombres y Apellidos:* **Jose Julian Rangel Aguas**\n",
        "*   *CC o TI:* **1063290923**\n",
        "\n",
        "*   *Nombres y Apellidos:* **Darwin Esteban Salazar Garcia**\n",
        "*   *CC o TI:* **271244**"
      ]
    },
    {
      "cell_type": "markdown",
      "metadata": {
        "id": "pwnlInu2njuE"
      },
      "source": [
        "**Fecha límite de entrega**: 2 de septiembre de 2024, antes de las 11:59 pm"
      ]
    },
    {
      "cell_type": "markdown",
      "metadata": {
        "id": "nZw4PZEIROUn"
      },
      "source": [
        "## Objetivo de Aprendizaje para la Tarea 1"
      ]
    },
    {
      "cell_type": "markdown",
      "metadata": {
        "id": "udfxM8XNRTXl"
      },
      "source": [
        "Analizar la descripción del problema de manejo dinámico de memoría por medio de la identificación de la estructura de datos más apropiada y el diseño de un algoritmo para generar una solución."
      ]
    },
    {
      "cell_type": "markdown",
      "metadata": {
        "id": "YefVixPWSBAP"
      },
      "source": [
        "## Descripción General de la Tarea 1"
      ]
    },
    {
      "cell_type": "markdown",
      "metadata": {
        "id": "flo3_YjhSNpm"
      },
      "source": [
        "La Tarea 1 esta diseñado para ser desarrollado por equipos de trabajo de 3 o 4 estudiantes, el cual resolveran 5 ejercicios de manejo dinámico de memoría. Los problemas planteados están enfocados en estructuras de datos basados en listas ligadas, colas y pilas, explicados en clases sincrónicas. Cada problema debe contener el diseño del algoritmo, los resultados con las pruebas solicitadas y una explicación del algoritmo."
      ]
    },
    {
      "cell_type": "markdown",
      "metadata": {
        "id": "-B1AFOG9TRlO"
      },
      "source": [
        "## Ejercicios"
      ]
    },
    {
      "cell_type": "markdown",
      "metadata": {
        "id": "0cQZm-XxTV_v"
      },
      "source": [
        "### Ejercicio 1: Concatenación de LSL"
      ]
    },
    {
      "cell_type": "markdown",
      "metadata": {
        "id": "IHXk3gd_T0dR"
      },
      "source": [
        "**Descripción:** Dado dos LSL, *Lista_1* y *Lista_2*, diseñe un algoritmo que permita concatenar ambas listas en una nueva LSL. Posteriormente, la nueva LSL debe estar ordenada de forma ascendente para retornar al usuario la LSL final.\n",
        "\n",
        "**Idea:** Si $Lista_1 = 5 \\rightarrow 7 \\rightarrow 8 \\rightarrow NULL$ y $Lista_2 = 7 \\rightarrow 5 \\rightarrow 2 \\rightarrow NULL$, la nueva LSL, $NuevaLSL = 2 → 5 → 5 \\rightarrow 7 → 7 \\rightarrow 8 → NULL$"
      ]
    },
    {
      "cell_type": "code",
      "execution_count": null,
      "metadata": {
        "id": "tGoWkNt9PJvo"
      },
      "outputs": [],
      "source": [
        "# Diseño del algoritmo\n",
        "class Nodo:\n",
        "  def __init__(self, valor):\n",
        "    self.valor = valor\n",
        "    self.siguiente = None\n",
        "class LSL_1:\n",
        "  def __init__(self):\n",
        "    self.cabecera = None\n",
        "\n",
        "  def insertar (self, valor):\n",
        "    nuevo_nodo = Nodo(valor)\n",
        "\n",
        "    if self.cabecera is None:\n",
        "      self.cabecera = nuevo_nodo\n",
        "    else:\n",
        "\n",
        "      nodo_actual = self.cabecera\n",
        "      while nodo_actual.siguiente is not None:\n",
        "        nodo_actual = nodo_actual.siguiente\n",
        "      nodo_actual.siguiente = nuevo_nodo\n",
        "\n",
        "  def visualizar(self):\n",
        "    if self.cabecera is None:\n",
        "      print(\"La lista simplemente ligada está vacía\")\n",
        "    else:\n",
        "      nodo_actual = self.cabecera\n",
        "      while nodo_actual is not None:\n",
        "        print(nodo_actual.valor, end=\" -> \")\n",
        "        nodo_actual = nodo_actual.siguiente\n",
        "      print(\"None\")\n",
        "\n",
        "class LSL_2:\n",
        "  def __init__(self):\n",
        "    self.cabecera = None\n",
        "\n",
        "  def insertar (self, valor):\n",
        "    nuevo_nodo = Nodo(valor)\n",
        "\n",
        "    if self.cabecera is None:\n",
        "      self.cabecera = nuevo_nodo\n",
        "    else:\n",
        "\n",
        "      nodo_actual = self.cabecera\n",
        "      while nodo_actual.siguiente is not None:\n",
        "        nodo_actual = nodo_actual.siguiente\n",
        "      nodo_actual.siguiente = nuevo_nodo\n",
        "\n",
        "  def Listas_concatenadas(self, Lista_1, Lista_2):\n",
        "    if Lista_1.cabecera is None and Lista_2.cabecera is None:\n",
        "      print(\"Las 2 listas estan vacias\")\n",
        "      return None\n",
        "\n",
        "    if Lista_1.cabecera is None:\n",
        "      print(\"La lista 1 esta vacia\")\n",
        "      return Lista_2\n",
        "\n",
        "    if Lista_2.cabecera is None:\n",
        "       print(\"La lista 2 esta vacia\")\n",
        "       return Lista_1\n",
        "\n",
        "\n",
        "    Nodo_actual = Lista_1.cabecera\n",
        "    while Nodo_actual.siguiente is not None:\n",
        "      Nodo_actual = Nodo_actual.siguiente\n",
        "    Nodo_actual.siguiente = Lista_2.cabecera\n",
        "\n",
        "    #Extraemos los valores de las listas\n",
        "    valores = []\n",
        "    nodo_actual = Lista_1.cabecera\n",
        "    while nodo_actual is not None:\n",
        "        valores.append(nodo_actual.valor)\n",
        "        nodo_actual = nodo_actual.siguiente\n",
        "\n",
        "    #ordenamos los valores\n",
        "    valores.sort()\n",
        "    lista_ordenada = LSL_1()\n",
        "    for valor in valores:\n",
        "      lista_ordenada.insertar(valor)\n",
        "    return lista_ordenada\n",
        "\n",
        "  def visualizar(self):\n",
        "    if self.cabecera is None:\n",
        "      print(\"La lista simplemente ligada está vacía\")\n",
        "    else:\n",
        "      nodo_actual = self.cabecera\n",
        "      while nodo_actual is not None:\n",
        "        print(nodo_actual.valor, end=\" -> \")\n",
        "        nodo_actual = nodo_actual.siguiente\n",
        "      print(\"None\")"
      ]
    },
    {
      "cell_type": "markdown",
      "metadata": {
        "id": "HDda7ujcV9Go"
      },
      "source": [
        "**Explicación del algoritmo: **\n",
        "\n",
        "Para este algoritmo usaremos la estructura de la lista simplemente ligada en la cual primero definiremos la clase nodo y despues definiremos 2 diferentes clases llamdas LSL_1 y LSL_2 en las cuales definiremos la funcion insertar donde igualaremos el valor del nuevo con la cabecera y respectivamente esta cabecera con el nodo siguiente para poder ingresar los valores deseados por el usuario en un ciclo while (esto mientras los valores ingresados no sean nulos) si el valor de la cabecera es un valor nulo pues simplemente se imprimira el mensaje \"la LSL esta vacia\" (en la funcion visualizar) por ultimo definimos la funcion Listas_concatenadas en las cuales primero definimos una serie de condicionales por si 1 de las 2 listas esta vacia o las 2 listas estan vacias, despues igualamos la Lista_1 como la cabecera para esta funcion y la lista_2 como el nodo siguiente (esto permitira enlazar las desorden en una nueva lista que en este caso llamamos valores) por ultimo para ordenar los valores de esta nueva lista simplemente usaremos la funcion valores.sort donde sort es un metodo para ordenar los elementos de la lista de manera ascendente."
      ]
    },
    {
      "cell_type": "code",
      "execution_count": null,
      "metadata": {
        "id": "YuDjh7wKWC7b"
      },
      "outputs": [],
      "source": [
        "# Prueba 1:\n",
        "# Lista_1 = 7 -> 8 -> 8 -> 1 -> NULL\n",
        "# Lista_2 = 2 -> 9 -> 1 -> 4 -> NULL\n",
        "\n",
        "Lista_1 = LSL()\n",
        "Lista_1.insertar(7)\n",
        "Lista_1.insertar(8)\n",
        "Lista_1.insertar(8)\n",
        "Lista_1.insertar(1)\n",
        "Lista_1.Mostrar()\n",
        "\n",
        "Lista_2 = LSL()\n",
        "Lista_2.insertar(2)\n",
        "Lista_2.insertar(9)\n",
        "Lista_2.insertar(1)\n",
        "Lista_2.insertar(4)\n",
        "Lista_2.Mostrar()\n",
        "\n",
        "# Colocar la función principal para solucionar y la respuesta generada\n",
        "operaciones = LSL_2()\n",
        "lista_concatenada = operaciones.Listas_concatenadas(Lista_1, Lista_2)\n",
        "lista_concatenada.visualizar()"
      ]
    },
    {
      "cell_type": "code",
      "execution_count": null,
      "metadata": {
        "id": "ZTW2iC2wXPcD"
      },
      "outputs": [],
      "source": [
        "# Prueba 2:\n",
        "# Lista_1 = 10 -> 9 -> 8 -> 7 -> NULL\n",
        "# Lista_2 = 6 -> 5 -> 4 -> 3 -> 2 -> 1 -> NULL\n",
        "\n",
        "Lista_1 = LSL()\n",
        "Lista_1.insertar(10)\n",
        "Lista_1.insertar(9)\n",
        "Lista_1.insertar(8)\n",
        "Lista_1.insertar(7)\n",
        "Lista_1.Mostrar()\n",
        "\n",
        "Lista_2 = LSL()\n",
        "Lista_2.insertar(6)\n",
        "Lista_2.insertar(5)\n",
        "Lista_2.insertar(4)\n",
        "Lista_2.insertar(3)\n",
        "Lista_2.insertar(2)\n",
        "Lista_2.insertar(1)\n",
        "Lista_2.Mostrar()\n",
        "\n",
        "# Colocar la función principal para solucionar y la respuesta generada\n",
        "operaciones = LSL_2()\n",
        "lista_concatenada = operaciones.Listas_concatenadas(Lista_1, Lista_2)\n",
        "lista_concatenada.visualizar()"
      ]
    },
    {
      "cell_type": "code",
      "execution_count": null,
      "metadata": {
        "id": "9Mljj8_-Xh6h"
      },
      "outputs": [],
      "source": [
        "# Prueba 3:\n",
        "# Lista_1 = 5 -> 5 -> 5 -> 5 -> NULL\n",
        "# Lista_2 = 6 -> 6 -> 6 -> NULL\n",
        "\n",
        "Lista_1 = LSL()\n",
        "Lista_1.insertar(5)\n",
        "Lista_1.insertar(5)\n",
        "Lista_1.insertar(5)\n",
        "Lista_1.insertar(5)\n",
        "Lista_1.Mostrar()\n",
        "\n",
        "Lista_2 =  ()\n",
        "Lista_2.insertar(6)\n",
        "Lista_2.insertar(6)\n",
        "Lista_2.insertar(6)\n",
        "Lista_2.Mostrar()\n",
        "\n",
        "# Colocar la función principal para solucionar y la respuesta generada\n",
        "operaciones = LSL_2()\n",
        "lista_concatenada = operaciones.Listas_concatenadas(Lista_1, Lista_2)\n",
        "lista_concatenada.visualizar()"
      ]
    },
    {
      "cell_type": "markdown",
      "metadata": {
        "id": "rfiJnY6HXxi_"
      },
      "source": [
        "### Ejercicio 2: Ordenamiento de una LDL"
      ]
    },
    {
      "cell_type": "markdown",
      "metadata": {
        "id": "ON4_llaTYXRi"
      },
      "source": [
        "**Descripción** Considere una LDL donde el usuario ingresa un conjunto de nodos cualquesquiera, es decir, nodos con valores positivos o negativos. Se desea diseñar un algoritmo que permita ordenar los nodos en cualquier forma, ascendente o descendente, tal que el resultado muestre los nodos ordenados y sin nodos repetitivos.\n",
        "\n",
        "**Idea:** Dado una LDL, $Lista = 8 <--> 1 <--> 1 <--> 1 <--> 9 <--> 4 <--> NULL$, el algoritmo debe retonar la siguiente LDL: $Lista = 1 <--> 4 <--> 8 <--> 9 <--> NULL$ o la otra opción, $Lista = 9 <--> 8 <--> 4 <--> 1 <--> NULL$"
      ]
    },
    {
      "cell_type": "code",
      "execution_count": null,
      "metadata": {},
      "outputs": [],
      "source": [
        "class Nodo:\n",
        "    def __init__(self, v):\n",
        "        self.valor, self.anterior, self.siguiente = v, None, None\n",
        "\n",
        "class LDL:\n",
        "    def __init__(self):\n",
        "        self.cabeza = None\n",
        "        self.cola = None\n",
        "\n",
        "    def insertar(self, v):\n",
        "        n = Nodo(v)\n",
        "        if not self.cabeza:\n",
        "            self.cabeza = self.cola = n\n",
        "        else:\n",
        "            self.cola.siguiente, n.anterior, self.cola = n, self.cola, n\n",
        "\n",
        "\n",
        "    def ordenar_sin_repetidos(self, asc=True):\n",
        "        if not self.cabeza or not self.cabeza.siguiente:\n",
        "            return\n",
        "        \n",
        "        def comparar(a, b, asc=True):\n",
        "            return a > b if asc else a < b\n",
        "\n",
        "    # --- Ordenar la lista reacomodando cada nodo en su posición correcta ---\n",
        "        actual = self.cabeza.siguiente\n",
        "        while actual:\n",
        "            clave = actual\n",
        "            mover = actual.anterior\n",
        "            siguiente = actual.siguiente\n",
        "\n",
        "            while mover and comparar(mover.valor, clave.valor, asc):\n",
        "                mover = mover.anterior\n",
        "\n",
        "            # quitar clave de su lugar\n",
        "            if clave.anterior: clave.anterior.siguiente = clave.siguiente\n",
        "            if clave.siguiente: clave.siguiente.anterior = clave.anterior\n",
        "            if clave == self.cola: self.cola = clave.anterior\n",
        "\n",
        "            # reinsertar clave\n",
        "            if not mover:\n",
        "                clave.siguiente = self.cabeza\n",
        "                self.cabeza.anterior = clave\n",
        "                self.cabeza = clave\n",
        "                clave.anterior = None\n",
        "            else:\n",
        "                clave.siguiente = mover.siguiente\n",
        "                if mover.siguiente: mover.siguiente.anterior = clave\n",
        "                mover.siguiente = clave\n",
        "                clave.anterior = mover\n",
        "                if mover == self.cola: self.cola = clave\n",
        "\n",
        "            actual = siguiente\n",
        "\n",
        "        # --- quitar duplicados ---\n",
        "        cur = self.cabeza\n",
        "        while cur and cur.siguiente:\n",
        "            if cur.valor == cur.siguiente.valor:\n",
        "                dup = cur.siguiente\n",
        "                cur.siguiente = dup.siguiente\n",
        "                if dup.siguiente: dup.siguiente.anterior = cur\n",
        "                else: self.cola = cur\n",
        "            else:\n",
        "                cur = cur.siguiente\n",
        "\n",
        "    def Mostrar(self):\n",
        "        cur, piezas = self.cabeza, []\n",
        "        while cur:\n",
        "            piezas.append(str(cur.valor))\n",
        "            cur = cur.siguiente\n",
        "        print(\" <-> \".join(piezas) + \" <-> NULL\" if piezas else \"NULL\")\n"
      ]
    },
    {
      "cell_type": "markdown",
      "metadata": {
        "id": "Gt-cSBnRfhe4"
      },
      "source": [
        "**Explicación del algoritmo:**\n",
        "\n",
        "Por favor, explicar en esta celda el funcionamiento del algoritmo y la estrategía utilizada para su diseño.\n",
        "\n",
        "\n",
        "**Aplicación del algoritmo**\n",
        "\n",
        "Este algoritmo trabaja con una lista doblemente enlazada (LDL) que puede contener números repetidos y se encarga de ordenarlos, ya sea de forma ascendente o descendente, devolviendo al final la lista ordenada en el orden elegido y sin los números duplicados.\n",
        "\n",
        "**Estrategia**\n",
        "\n",
        "● Ordenar la lista: Tomamos un nodo, que llamamos \"clave\", y lo comparamos con los nodos que están antes de él. Si no está en la posición correcta, lo desconectamos de su lugar actual y lo colocamos donde realmente debería estar. La doble ligadura, que conecta el nodo anterior y el siguiente, nos permite mover nodos hacia adelante o hacia atrás sin perder el enlace en la lista.\n",
        "\n",
        "● Eliminar duplicados:\n",
        "Cuando la lista está ordenada, todos los valores iguales se juntan uno al lado del otro, luego recorremos la lista y, si encontramos que un nodo tiene el mismo valor que el siguiente, eliminamos el duplicado ajustando los enlaces entre los nods."
      ]
    },
    {
      "cell_type": "code",
      "execution_count": 33,
      "metadata": {
        "id": "1s-zazYZfp2t"
      },
      "outputs": [
        {
          "name": "stdout",
          "output_type": "stream",
          "text": [
            "\n",
            "Prueba 1 - original:\n",
            "8 <-> 10 <-> 8 <-> 8 <-> 9 <-> NULL\n",
            "\n",
            "Prueba 1 - ascendente sin repetidos:\n",
            "8 <-> 9 <-> 10 <-> NULL\n",
            "\n",
            "Prueba 1 - descendente sin repetidos:\n",
            "10 <-> 9 <-> 8 <-> NULL\n"
          ]
        }
      ],
      "source": [
        "# Prueba 1:\n",
        "# Lista = 10 <-> 8 <-> 8 <-> 8 <-> 9 <-> NULL\n",
        "\n",
        "Lista = LDL()\n",
        "Lista.insertar(8)\n",
        "Lista.insertar(10)\n",
        "Lista.insertar(8)\n",
        "Lista.insertar(8)\n",
        "Lista.insertar(9)\n",
        "print(\"\\nPrueba 1 - original:\")\n",
        "Lista.Mostrar()\n",
        "\n",
        "print(\"\\nPrueba 1 - ascendente sin repetidos:\")\n",
        "Lista.ordenar_sin_repetidos(asc=True)\n",
        "Lista.Mostrar()\n",
        "\n",
        "print(\"\\nPrueba 1 - descendente sin repetidos:\")\n",
        "Lista.ordenar_sin_repetidos(asc=False)  # ya está sin repetidos, solo reordena\n",
        "Lista.Mostrar()\n",
        "\n",
        "# Colocar la función principal para solucionar y la respuesta generada"
      ]
    },
    {
      "cell_type": "code",
      "execution_count": 34,
      "metadata": {
        "id": "UoDZFsXhgEKK"
      },
      "outputs": [
        {
          "name": "stdout",
          "output_type": "stream",
          "text": [
            "\n",
            "Prueba 2 - original:\n",
            "1 <-> 1 <-> 1 <-> 1 <-> 1 <-> NULL\n",
            "\n",
            "Prueba 2 - ascendente sin repetidos:\n",
            "1 <-> NULL\n",
            "\n",
            "Prueba 2 - descendente sin repetidos:\n",
            "1 <-> NULL\n"
          ]
        }
      ],
      "source": [
        "# Prueba 2:\n",
        "# Lista = 1 <-> 1 <-> 1 <-> 1 <-> 1 <-> NULL\n",
        "\n",
        "Lista = LDL()\n",
        "Lista.insertar(1)\n",
        "Lista.insertar(1)\n",
        "Lista.insertar(1)\n",
        "Lista.insertar(1)\n",
        "Lista.insertar(1)\n",
        "\n",
        "print(\"\\nPrueba 2 - original:\")\n",
        "Lista.Mostrar()\n",
        "\n",
        "print(\"\\nPrueba 2 - ascendente sin repetidos:\")\n",
        "Lista.ordenar_sin_repetidos(asc=True)\n",
        "Lista.Mostrar()\n",
        "\n",
        "print(\"\\nPrueba 2 - descendente sin repetidos:\")\n",
        "Lista.ordenar_sin_repetidos(asc=False)\n",
        "Lista.Mostrar()\n",
        "\n",
        "# Colocar la función principal para solucionar y la respuesta generada"
      ]
    },
    {
      "cell_type": "code",
      "execution_count": 35,
      "metadata": {
        "id": "HhvEBYLJgMT5"
      },
      "outputs": [
        {
          "name": "stdout",
          "output_type": "stream",
          "text": [
            "\n",
            "Prueba 3 - original:\n",
            "8 <-> 7 <-> 6 <-> -4 <-> -4 <-> -3 <-> -2 <-> -4 <-> -1 <-> NULL\n",
            "\n",
            "Prueba 3 - ascendente sin repetidos:\n",
            "-4 <-> -3 <-> -2 <-> -1 <-> 6 <-> 7 <-> 8 <-> NULL\n",
            "\n",
            "Prueba 3 - descendente sin repetidos:\n",
            "8 <-> 7 <-> 6 <-> -1 <-> -2 <-> -3 <-> -4 <-> NULL\n"
          ]
        }
      ],
      "source": [
        "# Prueba 3:\n",
        "# Lista = 8 <-> 7 <-> 6 <-> -4 <-> -4 <-> -3 <-> -2 <-> -1 <-> NULL\n",
        "\n",
        "Lista = LDL()\n",
        "Lista.insertar(8)\n",
        "Lista.insertar(7)\n",
        "Lista.insertar(6)\n",
        "Lista.insertar(-4)\n",
        "Lista.insertar(-4)\n",
        "Lista.insertar(-3)\n",
        "Lista.insertar(-2)\n",
        "Lista.insertar(-4)\n",
        "Lista.insertar(-1)\n",
        "\n",
        "print(\"\\nPrueba 3 - original:\")\n",
        "Lista.Mostrar()\n",
        "\n",
        "print(\"\\nPrueba 3 - ascendente sin repetidos:\")\n",
        "Lista.ordenar_sin_repetidos(asc=True)\n",
        "Lista.Mostrar()\n",
        "\n",
        "print(\"\\nPrueba 3 - descendente sin repetidos:\")\n",
        "Lista.ordenar_sin_repetidos(asc=False)\n",
        "Lista.Mostrar()\n",
        "\n",
        "\n",
        "# Colocar la función principal para solucionar y la respuesta generada"
      ]
    },
    {
      "cell_type": "markdown",
      "metadata": {
        "id": "gZ06ZR20gme5"
      },
      "source": [
        "### Ejercicio 3: Operación de Encolamiento en una LDL"
      ]
    },
    {
      "cell_type": "markdown",
      "metadata": {
        "id": "0aMhTjsUhNg5"
      },
      "source": [
        "**Descripción:** Diseñar un algoritmo que permita encolar nodos en una LDL, considerando el método de cola no circular (CNC).\n",
        "\n",
        "**Idea:** Dado una LDL vacía, $Lista = NULL$, se desea encolar el nodo $3$, tal que la LDL se actualiza como $Lista = 3 <--> NULL$. Al encolar el nodo $4$, la LDL se actualiza de nuevo como $Lista = 3 <--> 4 <--> NULL$"
      ]
    },
    {
      "cell_type": "code",
      "execution_count": null,
      "metadata": {
        "id": "9_Ao4LtyiNGh"
      },
      "outputs": [],
      "source": [
        "# Diseño del algoritmo\n",
        "# //\n",
        "\n",
        "# //"
      ]
    },
    {
      "cell_type": "markdown",
      "metadata": {
        "id": "LOoO5qcRiPwa"
      },
      "source": [
        "**Explicación del algoritmo: **\n",
        "\n",
        "Por favor, explicar en esta celda el funcionamiento del algoritmo y la estrategía utilizada para su diseño."
      ]
    },
    {
      "cell_type": "code",
      "execution_count": null,
      "metadata": {
        "id": "vSAY2P-eiSJb"
      },
      "outputs": [],
      "source": [
        "# Prueba 1:\n",
        "# Generar una LDL = 1 <-> 5 <-> 6 <-> 9 <-> 10 <-> NULL\n",
        "\n",
        "# Colocar la función principal para solucionar y la respuesta generada"
      ]
    },
    {
      "cell_type": "code",
      "execution_count": null,
      "metadata": {
        "id": "FdbVfU7yid0a"
      },
      "outputs": [],
      "source": [
        "# Prueba 2:\n",
        "# Generar una LDL = 8 <-> 8 <-> 10 <-> 10 <-> 20 <-> NULL\n",
        "\n",
        "# Colocar la función principal para solucionar y la respuesta generada"
      ]
    },
    {
      "cell_type": "markdown",
      "metadata": {
        "id": "xZfGpiaNikxA"
      },
      "source": [
        "### Ejercicio 4: Recuperación de valores desapilados desde una nueva lista\n",
        "\n"
      ]
    },
    {
      "cell_type": "markdown",
      "metadata": {
        "id": "Lv4c_tCUi_CJ"
      },
      "source": [
        "**Descripción:** Considere una lista de valores con un tamaño $n$ definido por el usuario. A partir de lo anterior, diseñar un algoritmo que permita desapilar los valores de la lista y recuperar sus valores a través de una nueva variable.\n",
        "\n",
        "**Idea:** Dado una lista, $Lista = [8, 7 , 1, 3, 9]$, se realiza una operación de desapilar tal que en una nueva variable, $ListaNueva$, se muestre los valores removidos previamente, $ListaNueva = [9, 3, 1, 7, 8]$"
      ]
    },
    {
      "cell_type": "code",
      "execution_count": null,
      "metadata": {
        "id": "eWluLxMDi1kK"
      },
      "outputs": [],
      "source": [
        "# Diseño del algoritmo\n",
        "class CNC:\n",
        "  def __init__(self, n):\n",
        "    self.capacidad = n\n",
        "    self.V = []\n",
        "    self.desencolados_historial = [] \n",
        "\n",
        "  def esta_vacia(self):\n",
        "    return len(self.V) == 0\n",
        "\n",
        "  def esta_llena(self):\n",
        "    return len(self.V) == self.capacidad\n",
        "\n",
        "  def encolar(self, valor):\n",
        "    if self.esta_llena():\n",
        "      print(\"La lista está llena\")\n",
        "    else:\n",
        "      self.V.append(valor)\n",
        "\n",
        "  def desencolar(self):\n",
        "    if self.esta_vacia():\n",
        "      print(\"La lista está vacía\")\n",
        "      return None\n",
        "    else:\n",
        "      valor_eliminado = self.V.pop(0) \n",
        "      self.desencolados_historial.append(valor_eliminado) \n",
        "      return self.V, valor_eliminado \n",
        "\n",
        "  def mostrar_desencolados(self):\n",
        "    if not self.desencolados_historial:\n",
        "      print(\"No se ha desencolado ningún valor\")\n",
        "    else:\n",
        "      print(\"Valores desencolados:\", self.desencolados_historial)\n",
        "\n",
        "  def Imprimir(self):\n",
        "    if self.esta_vacia():\n",
        "      print(\"Cola está vacía\")\n",
        "    else:\n",
        "      print(self.V)\n",
        "\n"
      ]
    },
    {
      "cell_type": "markdown",
      "metadata": {
        "id": "mtmf9P5QkFIM"
      },
      "source": [
        "**Explicación del algoritmo: **\n",
        "\n",
        "Para el desarrollo de este algoritmo usamos como ejemplo las colas circulares en el cual definimos la diferentes requisitos como que la capacidad de la lista dependra de un valor n (como se explica en el ejercicio), sel.V que va a ser donde se almacenen los valores que ingresemos y sel.desencolado_historial para almacenar los valores desencolados en la nueva lista, usamos la estructura comud de una cola circular en la cual con la funcion encolar añadiremos los valores a nuestra lista dependiendo del tamaño de n, creamos otra funcion que se llame desencolar en la cual eliminaremos los primeros valores que aparezcan en la lista sucesivamente,definiremos las funciones imprimir que es donde imrpimiremos los valores de las listas y las listas actualizadas a medida que desencolemos valores y por ultimo crearemos la clase mostrar desencolados en la cual se mostratan los valores desencolados almacenados en la nueva lista que en este caso es self.desencolados_historial"
      ]
    },
    {
      "cell_type": "code",
      "execution_count": null,
      "metadata": {
        "id": "CZje5sqtkK5f"
      },
      "outputs": [],
      "source": [
        "# Prueba 1:\n",
        "# Lista = [2, 7, 9, 5, 7, 5]\n",
        "\n",
        "# Colocar la función principal para solucionar y la respuesta generada\n",
        "Lista = CNC(6)\n",
        "\n",
        "Lista.encolar(2)\n",
        "Lista.encolar(7)\n",
        "Lista.encolar(9)\n",
        "Lista.encolar(5)\n",
        "Lista.encolar(7) \n",
        "Lista.encolar(5)\n",
        "Lista.Imprimir()#Aqui se imprime la lista completa\n",
        "Lista.desencolar()#Aqui desencolamos el primer valor de la lista\n",
        "Lista.Imprimir() #Aqui se muestra la lista actualizada \n",
        "Lista.mostrar_desencolados()#Aqui mostramos el valor desencolado en una nueva lista (en este caso sera 2)"
      ]
    },
    {
      "cell_type": "code",
      "execution_count": null,
      "metadata": {
        "id": "yOr6GjnckhV1"
      },
      "outputs": [],
      "source": [
        "# Prueba 2:\n",
        "# Lista = [1, 1, 1, 1, 1, 1]\n",
        "\n",
        "# Colocar la función principal para solucionar y la respuesta generada\n",
        "Lista = CNC(6)\n",
        "\n",
        "Lista.encolar(1)\n",
        "Lista.encolar(1)\n",
        "Lista.encolar(1)\n",
        "Lista.encolar(1)\n",
        "Lista.encolar(1) \n",
        "Lista.encolar(1)\n",
        "Lista.Imprimir()#mostramos la lista \n",
        "Lista.desencolar()#desencolamos el primer valor\n",
        "Lista.Imprimir() #mostramos la lista actualizada \n",
        "Lista.mostrar_desencolados()#Mostramos el valor desencolado en este caso 1"
      ]
    },
    {
      "cell_type": "code",
      "execution_count": null,
      "metadata": {
        "id": "aaPIa-SYklx_"
      },
      "outputs": [],
      "source": [
        "# Prueba 3:\n",
        "# Lista = [5, 5, 7, 7, 1, 1]\n",
        "\n",
        "# Colocar la función principal para solucionar y la respuesta generada\n",
        "Lista.encolar(5)\n",
        "Lista.encolar(5)\n",
        "Lista.encolar(7)\n",
        "Lista.encolar(7)\n",
        "Lista.encolar(1) \n",
        "Lista.encolar(1)\n",
        "Lista.Imprimir()#mostramos la lista \n",
        "Lista.desencolar()#desencolamos el primer valor\n",
        "Lista.Imprimir() #mostramos la lista actualizada \n",
        "Lista.mostrar_desencolados()#Mostramos el valor desencolado en este caso 5"
      ]
    },
    {
      "cell_type": "markdown",
      "metadata": {
        "id": "BMOq4eW5ktxU"
      },
      "source": [
        "### Ejercicio 5: Implementación de una pila usando una estructura de datos generado por colas"
      ]
    },
    {
      "cell_type": "markdown",
      "metadata": {
        "id": "d74gtucMc34g"
      },
      "source": [
        "**Descripción:** Diseñar una pila tal que soporte las operaciones de apilar y desapilar usando operaciones de encolar y desencolar de una cola.\n",
        "\n",
        "**Idea:** La estrategía es implementar la operación de desencolar de forma que el último elemento añadido siempre acabe en la parte inicial de la cola. Se sugiere para este paso, una contenedor cola adicional. Por otra parte, para introducir un elemento en la pila, primero hay que mover todos los elementos de la primera cola a la segunda cola, luego poner en cola el nuevo elemento en la primera cola y, por último, volcer a mover todos los elementos a la primera cola. Lo anterior asegura que el nuevo elemento se encuentre delante de la cola y por consiguiente, sería el primero en ser removido. Para sacar un elemento de la pila, es necesario devolver el elemento ubicado delante de la primera cola.\n",
        "\n",
        "\n",
        "\n",
        "\n",
        "\n"
      ]
    },
    {
      "cell_type": "code",
      "execution_count": 21,
      "metadata": {
        "id": "etsJ0yslc3Dj"
      },
      "outputs": [],
      "source": [
        "# Diseño del algoritmo\n",
        "# //\n",
        "\n",
        "class Cola:\n",
        "    def __init__(self):\n",
        "        self.elementos = []\n",
        "        self.frente = 0  # Índice del primer elemento\n",
        "        self.final = -1  # Índice del último elemento\n",
        "        self.tamaño = 0  # Número de elementos en la cola\n",
        "    \n",
        "    def encolar(self, elemento):\n",
        "        \"\"\"Agregar elemento al final de la cola\"\"\"\n",
        "        self.elementos.append(elemento)\n",
        "        self.final = self.final + 1\n",
        "        self.tamaño = self.tamaño + 1\n",
        "    \n",
        "    def desencolar(self):\n",
        "        \"\"\"Quitar elemento del frente de la cola\"\"\"\n",
        "        if self.tamaño == 0:\n",
        "            return None\n",
        "        \n",
        "        elemento = self.elementos[self.frente]\n",
        "        self.frente = self.frente + 1\n",
        "        self.tamaño = self.tamaño - 1\n",
        "        \n",
        "        # Si la cola queda vacía, reiniciar índices\n",
        "        if self.tamaño == 0:\n",
        "            self.frente = 0\n",
        "            self.final = -1\n",
        "            self.elementos = []\n",
        "        \n",
        "        return elemento\n",
        "    \n",
        "    def esta_vacia(self):\n",
        "        \"\"\"Verificar si la cola está vacía\"\"\"\n",
        "        if self.tamaño == 0:\n",
        "            return True\n",
        "        else:\n",
        "            return False\n",
        "    \n",
        "    def obtener_elementos_activos(self):\n",
        "        \"\"\"Obtener los elementos activos de la cola (del frente al final)\"\"\"\n",
        "        if self.esta_vacia():\n",
        "            return []\n",
        "        \n",
        "        elementos_activos = []\n",
        "        i = self.frente\n",
        "        while i <= self.final:\n",
        "            elementos_activos.append(self.elementos[i])\n",
        "            i = i + 1\n",
        "        \n",
        "        return elementos_activos\n",
        "\n",
        "class Pila:\n",
        "    def __init__(self):\n",
        "        # Usamos dos colas\n",
        "        self.cola_principal = Cola()\n",
        "        self.cola_auxiliar = Cola()\n",
        "    \n",
        "    def apilar(self, elemento):\n",
        "        \"\"\"Operación push de la pila\"\"\"\n",
        "        # Paso 1: Mover todos los elementos de la cola principal a la auxiliar\n",
        "        while not self.cola_principal.esta_vacia():\n",
        "            elemento_temp = self.cola_principal.desencolar()\n",
        "            self.cola_auxiliar.encolar(elemento_temp)\n",
        "        \n",
        "        # Paso 2: Encolar el nuevo elemento en la cola principal\n",
        "        self.cola_principal.encolar(elemento)\n",
        "        \n",
        "        # Paso 3: Mover todos los elementos de vuelta a la cola principal\n",
        "        while not self.cola_auxiliar.esta_vacia():\n",
        "            elemento_temp = self.cola_auxiliar.desencolar()\n",
        "            self.cola_principal.encolar(elemento_temp)\n",
        "    \n",
        "    def desapilar(self):\n",
        "        \"\"\"Operación pop de la pila\"\"\"\n",
        "        if self.cola_principal.esta_vacia():\n",
        "            return None\n",
        "        else:\n",
        "            return self.cola_principal.desencolar()\n",
        "    \n",
        "    def esta_vacia(self):\n",
        "        \"\"\"Verificar si la pila está vacía\"\"\"\n",
        "        return self.cola_principal.esta_vacia()\n",
        "    \n",
        "    def mostrar_pila(self):\n",
        "        \"\"\"Mostrar el contenido actual de la pila\"\"\"\n",
        "        elementos = self.cola_principal.obtener_elementos_activos()\n",
        "        print(\"Pila actual:\", elementos)\n",
        "\n",
        "\n",
        "# //"
      ]
    },
    {
      "cell_type": "markdown",
      "metadata": {
        "id": "noYTg8zJmhTo"
      },
      "source": [
        "**Explicación del algoritmo: **\n",
        "\n",
        "Por favor, explicar en esta celda el funcionamiento del algoritmo y la estrategía utilizada para su diseño.\n",
        "\n",
        "La estrategia consiste en usar dos colas donde la cola principal almacena los elementos y la cola auxiliar ayuda en las operaciones.\n",
        "\n",
        "Para apilar:\n",
        "\n",
        "Se mueven todos los elementos de la cola principal a la auxiliar, para luego encolar el nuevo elemento en la cola principal teniendo en cuenta que este debe quedar al frente, despues se moveran todos los elementos de la cola auxiliar de vuelta a la principal\n",
        "\n",
        "Para desapilar:\n",
        "\n",
        "Simplemente desencolar el primer elemento de la cola principal"
      ]
    },
    {
      "cell_type": "code",
      "execution_count": 22,
      "metadata": {
        "id": "LrJNRo5Pm7Hp"
      },
      "outputs": [
        {
          "name": "stdout",
          "output_type": "stream",
          "text": [
            "Lista original: [10, 11, 12, 13, 14, 15]\n",
            "Proceso de apilado:\n",
            "  Apilando 10\n",
            "Pila actual: [10]\n",
            "  Apilando 11\n",
            "Pila actual: [11, 10]\n",
            "  Apilando 12\n",
            "Pila actual: [12, 11, 10]\n",
            "  Apilando 13\n",
            "Pila actual: [13, 12, 11, 10]\n",
            "  Apilando 14\n",
            "Pila actual: [14, 13, 12, 11, 10]\n",
            "  Apilando 15\n",
            "Pila actual: [15, 14, 13, 12, 11, 10]\n",
            "Proceso de desapilado:\n",
            "  Elemento desapilado: 15\n",
            "Pila actual: [14, 13, 12, 11, 10]\n",
            "  Elemento desapilado: 14\n",
            "Pila actual: [13, 12, 11, 10]\n",
            "  Elemento desapilado: 13\n",
            "Pila actual: [12, 11, 10]\n",
            "  Elemento desapilado: 12\n",
            "Pila actual: [11, 10]\n",
            "  Elemento desapilado: 11\n",
            "Pila actual: [10]\n",
            "  Elemento desapilado: 10\n",
            "Pila actual: []\n",
            "Orden de desapilado: [15, 14, 13, 12, 11, 10]\n",
            "\n"
          ]
        }
      ],
      "source": [
        "# Prueba 1:\n",
        "# Lista = [10, 11, 12, 13, 14, 15],\n",
        "\n",
        "def resolver_ejercicio():\n",
        "    \n",
        "    lista1 = [10, 11, 12, 13, 14, 15]\n",
        "    pila1 = Pila()\n",
        "    \n",
        "    # Apilar todos los elementos\n",
        "    print(f\"Lista original: {lista1}\")\n",
        "    print(\"Proceso de apilado:\")\n",
        "    i = 0\n",
        "    while i < len(lista1):\n",
        "        print(f\"  Apilando {lista1[i]}\")\n",
        "        pila1.apilar(lista1[i])\n",
        "        pila1.mostrar_pila()\n",
        "        i = i + 1\n",
        "    \n",
        "    # Desapilar todos los elementos\n",
        "    print(\"Proceso de desapilado:\")\n",
        "    elementos_desapilados = []\n",
        "    while not pila1.esta_vacia():\n",
        "        elemento = pila1.desapilar()\n",
        "        elementos_desapilados.append(elemento)\n",
        "        print(f\"  Elemento desapilado: {elemento}\")\n",
        "        pila1.mostrar_pila()\n",
        "    \n",
        "    print(f\"Orden de desapilado: {elementos_desapilados}\")\n",
        "    print()\n",
        "    \n",
        "    \n",
        "\n",
        "# Ejecutar las pruebas\n",
        "resolver_ejercicio()\n",
        "\n",
        "# Colocar la función principal para solucionar y la respuesta generada"
      ]
    },
    {
      "cell_type": "code",
      "execution_count": 19,
      "metadata": {
        "id": "h26RZ7yYnMx-"
      },
      "outputs": [
        {
          "name": "stdout",
          "output_type": "stream",
          "text": [
            "Lista original: [1, 2, 3, 4, 5, 6]\n",
            "Proceso de apilado:\n",
            "  Apilando 1\n",
            "Pila actual: [1]\n",
            "  Apilando 2\n",
            "Pila actual: [2, 1]\n",
            "  Apilando 3\n",
            "Pila actual: [3, 2, 1]\n",
            "  Apilando 4\n",
            "Pila actual: [4, 3, 2, 1]\n",
            "  Apilando 5\n",
            "Pila actual: [5, 4, 3, 2, 1]\n",
            "  Apilando 6\n",
            "Pila actual: [6, 5, 4, 3, 2, 1]\n",
            "Proceso de desapilado:\n",
            "  Elemento desapilado: 6\n",
            "Pila actual: [5, 4, 3, 2, 1]\n",
            "  Elemento desapilado: 5\n",
            "Pila actual: [4, 3, 2, 1]\n",
            "  Elemento desapilado: 4\n",
            "Pila actual: [3, 2, 1]\n",
            "  Elemento desapilado: 3\n",
            "Pila actual: [2, 1]\n",
            "  Elemento desapilado: 2\n",
            "Pila actual: [1]\n",
            "  Elemento desapilado: 1\n",
            "Pila actual: []\n",
            "\n"
          ]
        }
      ],
      "source": [
        "# Prueba 2:\n",
        "Lista = [1, 2, 3, 4, 5, 6]\n",
        "\n",
        "def resolver_ejercicio():\n",
        "\n",
        "    lista2 = [1, 2, 3, 4, 5, 6]\n",
        "    pila2 = Pila()\n",
        "    \n",
        "    # Apilar todos los elementos\n",
        "    print(f\"Lista original: {lista2}\")\n",
        "    print(\"Proceso de apilado:\")\n",
        "    j = 0\n",
        "    while j < len(lista2):\n",
        "        print(f\"  Apilando {lista2[j]}\")\n",
        "        pila2.apilar(lista2[j])\n",
        "        pila2.mostrar_pila()\n",
        "        j = j + 1\n",
        "    \n",
        "    # Desapilar todos los elementos\n",
        "    print(\"Proceso de desapilado:\")\n",
        "    elementos_desapilados2 = []\n",
        "    while not pila2.esta_vacia():\n",
        "        elemento = pila2.desapilar()\n",
        "        elementos_desapilados2.append(elemento)\n",
        "        print(f\"  Elemento desapilado: {elemento}\")\n",
        "        pila2.mostrar_pila()\n",
        "    \n",
        "    print()\n",
        "\n",
        "resolver_ejercicio()\n",
        "\n",
        "# Colocar la función principal para solucionar y la respuesta generada"
      ]
    },
    {
      "cell_type": "code",
      "execution_count": 29,
      "metadata": {
        "id": "hEGhMsNLnNZN"
      },
      "outputs": [
        {
          "name": "stdout",
          "output_type": "stream",
          "text": [
            "Lista original: [50, 40, 30, 20, 10, 0]\n",
            "Proceso de apilado:\n",
            "  Apilando 50\n",
            "Pila actual: [50]\n",
            "Proceso de desapilado:\n",
            "  Elemento desapilado: 50\n",
            "Pila actual: []\n",
            "  Apilando 40\n",
            "Pila actual: [40]\n",
            "Proceso de desapilado:\n",
            "  Elemento desapilado: 40\n",
            "Pila actual: []\n",
            "  Apilando 30\n",
            "Pila actual: [30]\n",
            "Proceso de desapilado:\n",
            "  Elemento desapilado: 30\n",
            "Pila actual: []\n",
            "  Apilando 20\n",
            "Pila actual: [20]\n",
            "Proceso de desapilado:\n",
            "  Elemento desapilado: 20\n",
            "Pila actual: []\n",
            "  Apilando 10\n",
            "Pila actual: [10]\n",
            "Proceso de desapilado:\n",
            "  Elemento desapilado: 10\n",
            "Pila actual: []\n",
            "  Apilando 0\n",
            "Pila actual: [0]\n",
            "Proceso de desapilado:\n",
            "  Elemento desapilado: 0\n",
            "Pila actual: []\n"
          ]
        }
      ],
      "source": [
        "# Prueba 3:\n",
        "Lista = [50, 40, 30, 20, 10, 0]\n",
        "\n",
        "def resolver_ejercicio():\n",
        "    lista3 = [50, 40, 30, 20, 10, 0]\n",
        "    pila3 = Pila()\n",
        "    \n",
        "    # Apilar todos los elementos\n",
        "print(f\"Lista original: {lista3}\")\n",
        "print(\"Proceso de apilado:\")\n",
        "k = 0\n",
        "while k < len(lista3):\n",
        "    print(f\"  Apilando {lista3[k]}\")\n",
        "    pila3.apilar(lista3[k])\n",
        "    pila3.mostrar_pila()\n",
        "    k = k + 1\n",
        "    \n",
        "    # Desapilar todos los elementos\n",
        "    print(\"Proceso de desapilado:\")\n",
        "    elementos_desapilados3 = []\n",
        "    while not pila3.esta_vacia():\n",
        "        elemento = pila3.desapilar()\n",
        "        elementos_desapilados3.append(elemento)\n",
        "        print(f\"  Elemento desapilado: {elemento}\")\n",
        "        pila3.mostrar_pila()\n",
        "    \n",
        "# Ejecutar las pruebas\n",
        "resolver_ejercicio()\n",
        "\n",
        "# Colocar la función principal para solucionar y la respuesta generada"
      ]
    }
  ],
  "metadata": {
    "colab": {
      "private_outputs": true,
      "provenance": [],
      "toc_visible": true
    },
    "kernelspec": {
      "display_name": "Python 3",
      "name": "python3"
    },
    "language_info": {
      "codemirror_mode": {
        "name": "ipython",
        "version": 3
      },
      "file_extension": ".py",
      "mimetype": "text/x-python",
      "name": "python",
      "nbconvert_exporter": "python",
      "pygments_lexer": "ipython3",
      "version": "3.13.2"
    }
  },
  "nbformat": 4,
  "nbformat_minor": 0
}
